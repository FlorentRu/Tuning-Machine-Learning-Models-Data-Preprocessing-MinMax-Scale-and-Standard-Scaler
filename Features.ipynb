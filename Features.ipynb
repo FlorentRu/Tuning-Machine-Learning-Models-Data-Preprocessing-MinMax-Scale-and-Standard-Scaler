{
 "cells": [
  {
   "cell_type": "markdown",
   "id": "35249414",
   "metadata": {},
   "source": [
    "### Implemention of MinMaxScaler and StandardScaler during data preprocessing"
   ]
  },
  {
   "cell_type": "code",
   "execution_count": 4,
   "id": "6257923e",
   "metadata": {},
   "outputs": [
    {
     "name": "stdout",
     "output_type": "stream",
     "text": [
      "All tests passed!\n"
     ]
    }
   ],
   "source": [
    "import numpy as np\n",
    "from typing import List, Tuple\n",
    "\n",
    "class MinMaxScaler:\n",
    "    def __init__(self):\n",
    "        self.minimum = None\n",
    "        self.maximum = None\n",
    "        \n",
    "    def _check_is_array(self, x: np.ndarray) -> np.ndarray:\n",
    "        \"\"\"\n",
    "        Try to convert x to a np.ndarray if it's not a np.ndarray and return. If it can't be cast, raise an error.\n",
    "        \"\"\"\n",
    "        if not isinstance(x, np.ndarray):\n",
    "            x = np.array(x)\n",
    "            \n",
    "        assert isinstance(x, np.ndarray), \"Expected the input to be a list\"\n",
    "        return x\n",
    "        \n",
    "    \n",
    "    def fit(self, x: np.ndarray) -> None:   \n",
    "        x = self._check_is_array(x)\n",
    "        self.minimum = x.min(axis=0)\n",
    "        self.maximum = x.max(axis=0)\n",
    "        \n",
    "    def transform(self, x: np.ndarray) -> np.ndarray:\n",
    "        \"\"\"\n",
    "        MinMax Scale the given vector\n",
    "        \"\"\"\n",
    "        x = self._check_is_array(x)\n",
    "        diff_max_min = self.maximum - self.minimum\n",
    "        \n",
    "        return (x - self.minimum) / (self.maximum - self.minimum)\n",
    "    \n",
    "    def fit_transform(self, x: np.ndarray) -> np.ndarray:\n",
    "        x = self._check_is_array(x)\n",
    "        self.fit(x)\n",
    "        return self.transform(x)\n",
    "    \n",
    "    \n",
    "class StandardScaler:\n",
    "    def __init__(self):\n",
    "        self.mean = None\n",
    "        \n",
    "    def fit(self, x: np.ndarray) -> None:\n",
    "        \"\"\"\n",
    "        Compute the mean of the input array along each feature.\n",
    "        \"\"\"\n",
    "        self.mean = np.mean(x, axis=0)\n",
    "        \n",
    "    def transform(self, x: np.ndarray) -> np.ndarray:\n",
    "        \"\"\"\n",
    "        Standardize the given vector.\n",
    "        \"\"\"\n",
    "        return (x - self.mean) / np.std(x, axis=0)\n",
    "    \n",
    "    def fit_transform(self, x: np.ndarray) -> np.ndarray:\n",
    "        self.fit(x)\n",
    "        return self.transform(x)\n",
    "\n",
    "\n",
    "def test_min_max_scaler(): # Test MinMaxScaler\n",
    "    \n",
    "    data = np.array([[1, 2, 3], [4, 5, 6], [7, 8, 9]])\n",
    "    scaler = MinMaxScaler()\n",
    "    scaler.fit(data)\n",
    "    transformed_data = scaler.transform(data)\n",
    "    assert np.array_equal(transformed_data.min(axis=0), np.zeros(3))\n",
    "    assert np.array_equal(transformed_data.max(axis=0), np.ones(3))\n",
    "\n",
    "def test_standard_scaler(): # Test StandardScaler\n",
    "    \n",
    "    data = np.array([[1, 2, 3], [4, 5, 6], [7, 8, 9]])\n",
    "    scaler = StandardScaler()\n",
    "    scaler.fit(data)\n",
    "    transformed_data = scaler.transform(data)\n",
    "    assert np.allclose(transformed_data.mean(axis=0), np.zeros(3), atol=1e-5)\n",
    "    assert np.allclose(np.std(transformed_data, axis=0), np.ones(3), atol=1e-5)\n",
    "\n",
    "if __name__ == \"__main__\":\n",
    "    test_min_max_scaler()\n",
    "    test_standard_scaler()\n",
    "    print(\"All tests passed!\")"
   ]
  }
 ],
 "metadata": {
  "kernelspec": {
   "display_name": "Python 3 (ipykernel)",
   "language": "python",
   "name": "python3"
  },
  "language_info": {
   "codemirror_mode": {
    "name": "ipython",
    "version": 3
   },
   "file_extension": ".py",
   "mimetype": "text/x-python",
   "name": "python",
   "nbconvert_exporter": "python",
   "pygments_lexer": "ipython3",
   "version": "3.11.5"
  }
 },
 "nbformat": 4,
 "nbformat_minor": 5
}
